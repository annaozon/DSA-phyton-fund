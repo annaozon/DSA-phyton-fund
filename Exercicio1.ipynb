{
 "cells": [
  {
   "cell_type": "code",
   "execution_count": 9,
   "id": "bd7f681a",
   "metadata": {},
   "outputs": [
    {
     "name": "stdout",
     "output_type": "stream",
     "text": [
      "[1, 2, 3, 4, 5, 6, 7, 8, 9, 10]\n"
     ]
    }
   ],
   "source": [
    "#Pt- Exercício 1 - Imprima na tela os números de 1 a 10. Use uma lista para armazenar os números\n",
    "#En- Exercice 1 - Print out the numbers from 1 to 10 on the screen. Use a list to store the numbers\n",
    "\n",
    "list1=[1,2,3,4,5,6,7,8,9,10]\n",
    "print(list1)"
   ]
  },
  {
   "cell_type": "code",
   "execution_count": 10,
   "id": "05ab81a5",
   "metadata": {},
   "outputs": [
    {
     "name": "stdout",
     "output_type": "stream",
     "text": [
      "['diapers', 'toys', 'milk', 'fruits', 'vegetables']\n"
     ]
    }
   ],
   "source": [
    "#Pt- Exercício 2 - Crie uma lista de 5 objetos e imprima na tela\n",
    "#En- Exercise 2 - Create a list of 5 objects and print on the screen\n",
    "\n",
    "list2=['diapers', 'toys', 'milk', 'fruits', 'vegetables' ]\n",
    "print(list2)"
   ]
  },
  {
   "cell_type": "code",
   "execution_count": 11,
   "id": "55266885",
   "metadata": {},
   "outputs": [
    {
     "data": {
      "text/plain": [
       "'Maria Clara is super smart!'"
      ]
     },
     "execution_count": 11,
     "metadata": {},
     "output_type": "execute_result"
    }
   ],
   "source": [
    "#Pt- Exercício 3 - Crie duas strings e concatene as duas em uma terceira string\n",
    "#En- Exercise 3 - Create two strings and concatenate them into a third string\n",
    "\n",
    "a='Maria Clara'\n",
    "b=' is super smart!'\n",
    "Baby=a+b\n",
    "Baby"
   ]
  },
  {
   "cell_type": "code",
   "execution_count": 12,
   "id": "31687c00",
   "metadata": {},
   "outputs": [
    {
     "data": {
      "text/plain": [
       "3"
      ]
     },
     "execution_count": 12,
     "metadata": {},
     "output_type": "execute_result"
    }
   ],
   "source": [
    "#Pt- Exercício 4 - Crie uma tupla com os seguintes elementos: 1, 2, 2, 3, 4, 4, 4, 5 e depois utilize a função count do \n",
    "# objeto tupla para verificar quantas vezes o número 4 aparece na tupla\n",
    "\n",
    "tupla1=(1, 2, 2, 3, 4, 4, 4, 5)\n",
    "tupla1.count(4)"
   ]
  },
  {
   "cell_type": "code",
   "execution_count": 13,
   "id": "52b7705a",
   "metadata": {},
   "outputs": [
    {
     "name": "stdout",
     "output_type": "stream",
     "text": [
      "{}\n"
     ]
    }
   ],
   "source": [
    "#Pt- Exercício 5 - Crie um dicionário vazio e imprima na tela\n",
    "#En- Exercise 5 - Create an empty dictionary and print it on the screen\n",
    "\n",
    "dic1={}\n",
    "print(dic1)"
   ]
  },
  {
   "cell_type": "code",
   "execution_count": 14,
   "id": "40d50f5d",
   "metadata": {},
   "outputs": [
    {
     "name": "stdout",
     "output_type": "stream",
     "text": [
      "{'Maria': 152, 'Anna': 21, 'Marcos': 11}\n"
     ]
    }
   ],
   "source": [
    "#Pt- Exercício 6 - Crie um dicionário com 3 chaves e 3 valores e imprima na tela\n",
    "#En- Exercise 6 - Create a dictionary with 3 keys and 3 values and print it on the screen\n",
    "\n",
    "dic2={'Maria': 152, 'Anna': 21, 'Marcos':11}\n",
    "print(dic2)"
   ]
  },
  {
   "cell_type": "code",
   "execution_count": 15,
   "id": "7c61bfbb",
   "metadata": {},
   "outputs": [
    {
     "name": "stdout",
     "output_type": "stream",
     "text": [
      "{'Maria': 152, 'Anna': 21, 'Marcos': 11, 'Ze': 171}\n"
     ]
    }
   ],
   "source": [
    "#Pt- Exercício 7 - Adicione mais um elemento ao dicionário criado no exercício anterior e imprima na tela\n",
    "#En- Exercise 7 - Add one more element to the dictionary created in the previous exercise and print on the screen\n",
    "\n",
    "dic2['Ze']=171\n",
    "print(dic2)"
   ]
  },
  {
   "cell_type": "code",
   "execution_count": 16,
   "id": "31fa8b52",
   "metadata": {},
   "outputs": [
    {
     "name": "stdout",
     "output_type": "stream",
     "text": [
      "{'Internet': 'Vodafone', 'TV': 'Netflix', 'Mercado': [200, 400]}\n"
     ]
    }
   ],
   "source": [
    "#Pt- Exercício 8 - Crie um dicionário com 3 chaves e 3 valores. Um dos valores deve ser uma lista de 2 elementos numéricos. \n",
    "#Imprima o dicionário na tela\n",
    "#En- Create a dictionary with 3 keys and 3 values. One of the values should be a list of 2 numeric elements. \n",
    "#Print the dictionary on the screen\n",
    "\n",
    "dic3={'Internet': 'Vodafone', 'TV': 'Netflix', 'Mercado':[200, 400]}\n",
    "print(dic3)"
   ]
  },
  {
   "cell_type": "code",
   "execution_count": 17,
   "id": "089b084f",
   "metadata": {},
   "outputs": [
    {
     "name": "stdout",
     "output_type": "stream",
     "text": [
      "['Germany', (8, 13), {'Data': 'Science', 'Machine': 'Learning'}, 1.2]\n"
     ]
    }
   ],
   "source": [
    "#Pt- Exercício 9 - Crie uma lista de 4 elementos. O primeiro elemento deve ser uma string, \n",
    "# o segundo uma tupla de 2 elementos, o terceiro um dcionário com 2 chaves e 2 valores e \n",
    "# o quarto elemento um valor do tipo float.\n",
    "# Imprima a lista na tela.\n",
    "#En- Exercise 9 - Create a list of 4 elements. The first element must be a string, \n",
    "# the second a tuple of 2 elements, the third a dictionary with 2 keys and 2 values and \n",
    "# the fourth element a value of type float.\n",
    "# Print the list on the screen.\n",
    "list3=['Germany',(8,13), {'Data':'Science','Machine':'Learning' }, 1.2]\n",
    "print(list3)"
   ]
  },
  {
   "cell_type": "code",
   "execution_count": 19,
   "id": "5a6e2b29",
   "metadata": {},
   "outputs": [
    {
     "data": {
      "text/plain": [
       "'Cientista de Dados'"
      ]
     },
     "execution_count": 19,
     "metadata": {},
     "output_type": "execute_result"
    }
   ],
   "source": [
    "#Pt- Exercício 10 - Considere a string abaixo. Imprima na tela apenas os caracteres da posição 1 a 18\n",
    "frase = 'Cientista de Dados é o profissional mais sexy do século XXI'\n",
    "#En- Exercise 10 - Consider the string below. Print on the screen only the characters from position 1 to 18\n",
    "sentence = 'Data Scientist is the sexiest professional of the 21st century'\n",
    "\n",
    "frase[0:18]"
   ]
  },
  {
   "cell_type": "code",
   "execution_count": null,
   "id": "4952c139",
   "metadata": {},
   "outputs": [],
   "source": []
  }
 ],
 "metadata": {
  "kernelspec": {
   "display_name": "Python 3 (ipykernel)",
   "language": "python",
   "name": "python3"
  },
  "language_info": {
   "codemirror_mode": {
    "name": "ipython",
    "version": 3
   },
   "file_extension": ".py",
   "mimetype": "text/x-python",
   "name": "python",
   "nbconvert_exporter": "python",
   "pygments_lexer": "ipython3",
   "version": "3.9.7"
  }
 },
 "nbformat": 4,
 "nbformat_minor": 5
}
